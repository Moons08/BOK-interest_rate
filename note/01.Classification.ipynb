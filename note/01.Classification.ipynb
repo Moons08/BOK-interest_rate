{
 "cells": [
  {
   "cell_type": "markdown",
   "metadata": {},
   "source": [
    "시계열 문제지만,\n",
    "\n",
    "분류 모델로 돌려봄"
   ]
  },
  {
   "cell_type": "code",
   "execution_count": 1,
   "metadata": {},
   "outputs": [],
   "source": [
    "import warnings\n",
    "warnings.filterwarnings(\"ignore\")"
   ]
  },
  {
   "cell_type": "code",
   "execution_count": 2,
   "metadata": {},
   "outputs": [],
   "source": [
    "df = pd.read_csv('../edited_debt.csv')\n",
    "# df = pd.read_csv('../edited.csv')\n",
    "\n",
    "y = df['Y'].apply(lambda x: 0 if x=='leave' else 1)\n",
    "# X = df[['FFRm', 'CPI', 'KBR', 'debt']]\n",
    "X = df[['FFRm', 'CPI', 'debt']]"
   ]
  },
  {
   "cell_type": "code",
   "execution_count": 3,
   "metadata": {},
   "outputs": [],
   "source": [
    "from sklearn.model_selection import train_test_split\n",
    "\n",
    "X_train, self_test_x = train_test_split(X, test_size = .2, random_state=3)\n",
    "y_train, self_test_y = train_test_split(y, test_size = .2, random_state=3)"
   ]
  },
  {
   "cell_type": "code",
   "execution_count": 4,
   "metadata": {},
   "outputs": [
    {
     "data": {
      "text/plain": [
       "(177, 45)"
      ]
     },
     "execution_count": 4,
     "metadata": {},
     "output_type": "execute_result"
    }
   ],
   "source": [
    "len(X_train), len(self_test_x)"
   ]
  },
  {
   "cell_type": "markdown",
   "metadata": {},
   "source": [
    "---"
   ]
  },
  {
   "cell_type": "markdown",
   "metadata": {},
   "source": [
    "### RandomForest"
   ]
  },
  {
   "cell_type": "code",
   "execution_count": 5,
   "metadata": {},
   "outputs": [
    {
     "name": "stdout",
     "output_type": "stream",
     "text": [
      "Confusion Matrix:\n",
      "\n",
      " [[147   0]\n",
      " [ 28   2]] \n",
      "\n",
      "Classification report:\n",
      "\n",
      "              precision    recall  f1-score   support\n",
      "\n",
      "      leave       0.84      1.00      0.91       147\n",
      "     change       1.00      0.07      0.12        30\n",
      "\n",
      "avg / total       0.87      0.84      0.78       177\n",
      "\n"
     ]
    }
   ],
   "source": [
    "from sklearn.ensemble import *\n",
    "from sklearn.metrics import *\n",
    "from sklearn.model_selection import *\n",
    "\n",
    "model = RandomForestClassifier(max_depth=2, n_estimators=100, n_jobs=-1)\n",
    "model.fit(X_train, y_train)\n",
    "\n",
    "y_pred = model.predict(X_train)\n",
    "target_names=['leave', 'change']\n",
    "\n",
    "print(\"Confusion Matrix:\\n\\n\",confusion_matrix(y_train, y_pred), \"\\n\")\n",
    "print(\"Classification report:\\n\\n\",classification_report(y_train, y_pred, target_names=target_names))"
   ]
  },
  {
   "cell_type": "code",
   "execution_count": 6,
   "metadata": {},
   "outputs": [
    {
     "name": "stdout",
     "output_type": "stream",
     "text": [
      "Confusion Matrix:\n",
      "\n",
      " [[147   0]\n",
      " [  2  28]] \n",
      "\n",
      "Classification report:\n",
      "\n",
      "              precision    recall  f1-score   support\n",
      "\n",
      "      leave       0.99      1.00      0.99       147\n",
      "     change       1.00      0.93      0.97        30\n",
      "\n",
      "avg / total       0.99      0.99      0.99       177\n",
      "\n"
     ]
    }
   ],
   "source": [
    "model = RandomForestClassifier(max_depth=10, n_estimators=100, n_jobs=-1)\n",
    "model.fit(X_train, y_train)\n",
    "\n",
    "y_pred = model.predict(X_train)\n",
    "target_names=['leave', 'change']\n",
    "\n",
    "print(\"Confusion Matrix:\\n\\n\",confusion_matrix(y_train, y_pred), \"\\n\")\n",
    "print(\"Classification report:\\n\\n\",classification_report(y_train, y_pred, target_names=target_names))"
   ]
  },
  {
   "cell_type": "code",
   "execution_count": 7,
   "metadata": {},
   "outputs": [
    {
     "name": "stdout",
     "output_type": "stream",
     "text": [
      "Cross Validation\n",
      "accuracy: 0.7351778656126482\n",
      "recall: 0.0\n",
      "roc_auc: 0.35398391812865493\n",
      "f1: 0.0\n"
     ]
    }
   ],
   "source": [
    "cv = KFold(2)\n",
    "print(\"Cross Validation\")\n",
    "print(\"accuracy:\",cross_val_score(model, self_test_x, self_test_y, scoring=\"accuracy\", cv=cv).mean())\n",
    "print(\"recall:\",cross_val_score(model, self_test_x, self_test_y, scoring=\"recall\", cv=cv).mean())\n",
    "print(\"roc_auc:\",cross_val_score(model, self_test_x, self_test_y, scoring=\"roc_auc\", cv=cv).mean())\n",
    "print(\"f1:\",cross_val_score(model, self_test_x, self_test_y, scoring=\"f1\", cv=cv).mean())"
   ]
  },
  {
   "cell_type": "markdown",
   "metadata": {},
   "source": [
    "overfitted"
   ]
  },
  {
   "cell_type": "markdown",
   "metadata": {},
   "source": [
    "### Logistic "
   ]
  },
  {
   "cell_type": "code",
   "execution_count": 8,
   "metadata": {},
   "outputs": [
    {
     "name": "stdout",
     "output_type": "stream",
     "text": [
      "Confusion Matrix:\n",
      "\n",
      " [[105  42]\n",
      " [ 16  14]] \n",
      "\n",
      "Classification report:\n",
      "\n",
      "              precision    recall  f1-score   support\n",
      "\n",
      "      leave       0.87      0.71      0.78       147\n",
      "     change       0.25      0.47      0.33        30\n",
      "\n",
      "avg / total       0.76      0.67      0.71       177\n",
      "\n"
     ]
    }
   ],
   "source": [
    "from sklearn.linear_model import LogisticRegression\n",
    "\n",
    "model = LogisticRegression(class_weight={0:.2, 1:.8}).fit(X_train, y_train)\n",
    "\n",
    "y_pred = model.predict(X_train)\n",
    "print(\"Confusion Matrix:\\n\\n\",confusion_matrix(y_train, y_pred), \"\\n\")\n",
    "print(\"Classification report:\\n\\n\",classification_report(y_train, y_pred, target_names=target_names))"
   ]
  },
  {
   "cell_type": "code",
   "execution_count": 9,
   "metadata": {},
   "outputs": [
    {
     "name": "stdout",
     "output_type": "stream",
     "text": [
      "Cross Validation\n",
      "accuracy: 0.6007905138339921\n",
      "recall: 0.625\n",
      "roc_auc: 0.6571637426900585\n",
      "f1: 0.35416666666666663\n"
     ]
    }
   ],
   "source": [
    "print(\"Cross Validation\")\n",
    "print(\"accuracy:\",cross_val_score(model, self_test_x, self_test_y, scoring=\"accuracy\", cv=cv).mean())\n",
    "print(\"recall:\",cross_val_score(model, self_test_x, self_test_y, scoring=\"recall\", cv=cv).mean())\n",
    "print(\"roc_auc:\",cross_val_score(model, self_test_x, self_test_y, scoring=\"roc_auc\", cv=cv).mean())\n",
    "print(\"f1:\",cross_val_score(model, self_test_x, self_test_y, scoring=\"f1\", cv=cv).mean())"
   ]
  },
  {
   "cell_type": "markdown",
   "metadata": {},
   "source": [
    "---"
   ]
  },
  {
   "cell_type": "markdown",
   "metadata": {},
   "source": [
    "### Boosting"
   ]
  },
  {
   "cell_type": "code",
   "execution_count": 10,
   "metadata": {},
   "outputs": [],
   "source": [
    "import lightgbm as lgb\n",
    "\n",
    "X_train, self_test_x = train_test_split(X, test_size = .25, random_state=333)\n",
    "y_train, self_test_y = train_test_split(y, test_size = .25, random_state=333)\n",
    "\n",
    "X_train, X_test = train_test_split(X_train, test_size = .25, random_state=333)\n",
    "y_train, y_test = train_test_split(y_train, test_size = .25, random_state=333)\n",
    "\n",
    "train_data = lgb.Dataset(X_train, label=y_train)\n",
    "\n",
    "test_data = lgb.Dataset(X_test, label=y_test)\n",
    "\n",
    "self_test_data = lgb.Dataset(self_test_x, label=self_test_y)"
   ]
  },
  {
   "cell_type": "code",
   "execution_count": 11,
   "metadata": {},
   "outputs": [
    {
     "data": {
      "text/plain": [
       "{'bagging_fraction': 0.8,\n",
       " 'bagging_freq': 3,\n",
       " 'boosting': 'gbdt',\n",
       " 'max_depth': -1,\n",
       " 'metric': 'auc',\n",
       " 'num_class': 2,\n",
       " 'num_leaves': 10,\n",
       " 'objective': 'multiclass'}"
      ]
     },
     "execution_count": 11,
     "metadata": {},
     "output_type": "execute_result"
    }
   ],
   "source": [
    "param = {'objective': 'multiclass',  'num_class': 2, \n",
    "              'num_leaves':10, 'max_depth': -1,\n",
    "              'boosting':'gbdt',\n",
    "         'bagging_fraction': 0.8, 'bagging_freq': 3, \n",
    "                }\n",
    "param['metric'] = 'auc'\n",
    "param"
   ]
  },
  {
   "cell_type": "code",
   "execution_count": 12,
   "metadata": {
    "scrolled": true
   },
   "outputs": [
    {
     "name": "stdout",
     "output_type": "stream",
     "text": [
      "[1]\tvalid_0's auc: 0.526531\n",
      "Training until validation scores don't improve for 10 rounds.\n",
      "[2]\tvalid_0's auc: 0.328571\n",
      "[3]\tvalid_0's auc: 0.369388\n",
      "[4]\tvalid_0's auc: 0.385714\n",
      "[5]\tvalid_0's auc: 0.430612\n",
      "[6]\tvalid_0's auc: 0.504082\n",
      "[7]\tvalid_0's auc: 0.497959\n",
      "[8]\tvalid_0's auc: 0.506122\n",
      "[9]\tvalid_0's auc: 0.514286\n",
      "[10]\tvalid_0's auc: 0.530612\n",
      "[11]\tvalid_0's auc: 0.538776\n",
      "[12]\tvalid_0's auc: 0.497959\n",
      "[13]\tvalid_0's auc: 0.457143\n",
      "[14]\tvalid_0's auc: 0.440816\n",
      "[15]\tvalid_0's auc: 0.428571\n",
      "[16]\tvalid_0's auc: 0.379592\n",
      "[17]\tvalid_0's auc: 0.369388\n",
      "[18]\tvalid_0's auc: 0.402041\n",
      "[19]\tvalid_0's auc: 0.414286\n",
      "[20]\tvalid_0's auc: 0.406122\n",
      "[21]\tvalid_0's auc: 0.381633\n",
      "Early stopping, best iteration is:\n",
      "[11]\tvalid_0's auc: 0.538776\n"
     ]
    }
   ],
   "source": [
    "num_round = 50\n",
    "bst = lgb.train(param, train_data, num_round, valid_sets=[test_data], early_stopping_rounds=10)"
   ]
  },
  {
   "cell_type": "code",
   "execution_count": 13,
   "metadata": {
    "scrolled": true
   },
   "outputs": [
    {
     "data": {
      "text/plain": [
       "{'auc-mean': [0.5, 0.5, 0.5, 0.5, 0.5], 'auc-stdv': [0.0, 0.0, 0.0, 0.0, 0.0]}"
      ]
     },
     "execution_count": 13,
     "metadata": {},
     "output_type": "execute_result"
    }
   ],
   "source": [
    "lgb.cv(param, self_test_data, 5, nfold=3)"
   ]
  },
  {
   "cell_type": "code",
   "execution_count": 14,
   "metadata": {},
   "outputs": [
    {
     "name": "stdout",
     "output_type": "stream",
     "text": [
      "Plot feature importances...\n"
     ]
    },
    {
     "data": {
      "image/png": "[encoded data removed]",
      "text/plain": [
       "<matplotlib.figure.Figure at 0x7f0a14039358>"
      ]
     },
     "metadata": {},
     "output_type": "display_data"
    }
   ],
   "source": [
    "%matplotlib inline\n",
    "print('Plot feature importances...')\n",
    "ax = lgb.plot_importance(bst, max_num_features=3)\n",
    "plt.show()"
   ]
  }
 ],
 "metadata": {
  "kernelspec": {
   "display_name": "Python 3",
   "language": "python",
   "name": "python3"
  },
  "language_info": {
   "codemirror_mode": {
    "name": "ipython",
    "version": 3
   },
   "file_extension": ".py",
   "mimetype": "text/x-python",
   "name": "python",
   "nbconvert_exporter": "python",
   "pygments_lexer": "ipython3",
   "version": "3.6.4"
  }
 },
 "nbformat": 4,
 "nbformat_minor": 2
}
